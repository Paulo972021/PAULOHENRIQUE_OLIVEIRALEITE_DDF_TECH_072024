{
  "cells": [
    {
      "cell_type": "code",
      "execution_count": null,
      "metadata": {
        "id": "TCci-U_aFDki"
      },
      "outputs": [],
      "source": [
        "!pip install pandasai"
      ]
    },
    {
      "cell_type": "code",
      "execution_count": null,
      "metadata": {
        "id": "_J25ksBVGHLA"
      },
      "outputs": [],
      "source": [
        "!pip install langchain-groq"
      ]
    },
    {
      "cell_type": "code",
      "execution_count": 4,
      "metadata": {
        "id": "CfhpsOdxF65R"
      },
      "outputs": [],
      "source": [
        "import pandas as pd\n",
        "import os\n",
        "from dotenv import load_dotenv\n",
        "from pandasai import SmartDataframe\n",
        "from langchain_groq.chat_models import ChatGroq"
      ]
    },
    {
      "cell_type": "code",
      "execution_count": 14,
      "metadata": {
        "id": "TIlHQy2kGQ_h"
      },
      "outputs": [],
      "source": [
        "llm = ChatGroq(model_name = 'mixtral-8x7b-32768',api_key = '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')\n"
      ]
    },
    {
      "cell_type": "code",
      "execution_count": 7,
      "metadata": {
        "colab": {
          "base_uri": "https://localhost:8080/"
        },
        "id": "D00ruRJ1HXqZ",
        "outputId": "06757361-df16-4730-d5d3-cab296dc8215"
      },
      "outputs": [
        {
          "name": "stdout",
          "output_type": "stream",
          "text": [
            "Mounted at /content/drive\n"
          ]
        }
      ],
      "source": [
        "from google.colab import drive\n",
        "drive.mount('/content/drive')"
      ]
    },
    {
      "cell_type": "code",
      "execution_count": 8,
      "metadata": {
        "id": "CfxodlE4GhlQ"
      },
      "outputs": [],
      "source": [
        "import json\n",
        "import pandas as pd\n",
        "\n",
        "file_path = '/content/drive/MyDrive/CASE DADOS FERA/PRODUCTS/corpus-simple.jsonl'\n",
        "\n",
        "# Lista para armazenar cada linha do JSON\n",
        "data_list = []\n",
        "\n",
        "# Abrindo o arquivo e lendo linha por linha\n",
        "with open(file_path, 'r', encoding='utf-8') as file:\n",
        "    for line in file:\n",
        "        # Carregar cada linha como um objeto JSON e adicioná-lo à lista\n",
        "        data = json.loads(line)\n",
        "        data_list.append(data)\n",
        "\n",
        "# Converter a lista de dicionários em um DataFrame\n",
        "df = pd.DataFrame(data_list)"
      ]
    },
    {
      "cell_type": "code",
      "execution_count": 21,
      "metadata": {
        "id": "_KKqJCnGLjNA"
      },
      "outputs": [],
      "source": [
        "df = pd.read_csv('/content/drive/MyDrive/CASE DADOS FERA/product_category_name_translation.csv')\n"
      ]
    },
    {
      "cell_type": "code",
      "execution_count": null,
      "metadata": {
        "id": "FGHw_C5OIjoZ"
      },
      "outputs": [],
      "source": [
        "df.head\n",
        "print(df.head)"
      ]
    },
    {
      "cell_type": "code",
      "execution_count": null,
      "metadata": {
        "id": "87p6ATSEJsL4"
      },
      "outputs": [],
      "source": [
        "!pip install langchain --upgrade"
      ]
    },
    {
      "cell_type": "code",
      "execution_count": null,
      "metadata": {
        "colab": {
          "base_uri": "https://localhost:8080/",
          "height": 321
        },
        "id": "H2r3mI6DIsaP",
        "outputId": "7519a17c-a1c8-4027-e612-07c0b6dc4ebd"
      },
      "outputs": [],
      "source": [
        "db = SmartDataframe(df,config = {'llm':llm})"
      ]
    }
  ],
  "metadata": {
    "colab": {
      "provenance": []
    },
    "kernelspec": {
      "display_name": "Python 3",
      "name": "python3"
    },
    "language_info": {
      "name": "python"
    }
  },
  "nbformat": 4,
  "nbformat_minor": 0
}
